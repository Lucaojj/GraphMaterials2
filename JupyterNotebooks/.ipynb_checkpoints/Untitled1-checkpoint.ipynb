{
 "cells": [
  {
   "cell_type": "code",
   "execution_count": 1,
   "id": "24357973",
   "metadata": {},
   "outputs": [],
   "source": [
    "import os\n",
    "os.getcwd()\n",
    "os.chdir('/home/lucasperea/Documents/GithubRep/GraphMaterials/')\n",
    "\n",
    "\n",
    "import pickle\n",
    "import numpy as np\n",
    "import pymatgen\n",
    "import matplotlib.pyplot as plt\n",
    "from pymatgen.core.structure import Structure\n",
    "from GraphFunc.PageRankFunction import PageRank\n",
    "from GraphFunc.ConexionFunction import Conexion\n",
    "from GraphFunc.ZeoDataframeFunction import ZeoDataframe\n",
    "from GraphFunc.EdgeFileFunction import EdgeFile\n",
    "import seaborn as sns\n",
    "%load_ext autoreload\n",
    "%autoreload 2"
   ]
  },
  {
   "cell_type": "code",
   "execution_count": 2,
   "id": "94a840bd",
   "metadata": {},
   "outputs": [],
   "source": [
    "def Supercell(path_cif, lattice_vector, path_supercell):\n",
    "    \n",
    "    import pymatgen\n",
    "    from pymatgen.core.structure import Structure\n",
    "    from pymatgen.io.cif import CifWriter\n",
    "    \n",
    "    struct = Structure.from_file(path_cif)\n",
    "    struct.make_supercell(lattice_vector)\n",
    "    \n",
    "    CifWriter(struct).write_file(path_supercell)\n",
    "    print('Supercell DONE')\n",
    "    return struct.lattice.abc"
   ]
  },
  {
   "cell_type": "code",
   "execution_count": 4,
   "id": "db837ee2",
   "metadata": {},
   "outputs": [
    {
     "name": "stdout",
     "output_type": "stream",
     "text": [
      "Supercell DONE\n",
      "DataFrame DONE\n",
      "Edge File DONE\n",
      "Number of total nodes: 552 \n",
      "\n",
      "Best connected node: 51 \n",
      "\n",
      "values for best connected node: 5.2707891464, worst connected node: 0.0012673590 \n",
      "\n",
      "Sum of values of all nodes: 512.9796786170\n",
      "PageRank DONE\n"
     ]
    }
   ],
   "source": [
    "n = 2\n",
    "\n",
    "supercell_path = './SupercellFiles/SuperEDI' + str(n**3) + '.cif'\n",
    "nt2_path = './SupercellFiles/SuperEDI' + str(n**3) + '.nt2'\n",
    "\n",
    "cell_dim = Supercell('./CifFiles/EDI.cif', [n,n,n], supercell_path)\n",
    "\n",
    "\n",
    "multiplier = np.array([1,1,1]) #6.4\n",
    "box = np.array([cell_dim[0], cell_dim[1], cell_dim[2]])\n",
    "\n",
    "\n",
    "edge_table, vertex_table = ZeoDataframe(nt2_path, multiplier, box)\n",
    "\n",
    "# Create a file that describe conexions between nodes\n",
    "bound_path = './BoundFiles/Bound' + 'EDI' + str(n**3) + '.text'\n",
    "path_edge_file = EdgeFile(bound_path, edge_table)\n",
    "\n",
    "# Dictionary used to calulatate the proporcion among the conexion in every node\n",
    "conexion = Conexion(vertex_table, edge_table)\n",
    "\n",
    "# Pagerank algorithm \n",
    "# return an ax with the selected node located \n",
    "iteration = 50\n",
    "info, sum_nodes = PageRank(path_edge_file, conexion, iteration)\n"
   ]
  },
  {
   "cell_type": "code",
   "execution_count": 25,
   "id": "8cc28b22",
   "metadata": {},
   "outputs": [
    {
     "name": "stdout",
     "output_type": "stream",
     "text": [
      "[5.270789  5.2692466 5.2437973 5.23651   5.2365017 5.2273116 5.198957\n",
      " 5.1912007 3.0506148]\n",
      "[ 51 539 146 538 545  60  65 541  57]\n"
     ]
    }
   ],
   "source": [
    "print(info[np.argsort(info)][-1:-10:-1])\n",
    "print(np.argsort(info)[-1:-10:-1])\n",
    "\n",
    "conn_coord = vertex_table.loc[vertex_table.index[[ 51]]]\n",
    "\n",
    "# for i in range(len(conn_coord)):\n",
    "#     conn_coord.iloc[i, ]\n",
    "\n",
    "destination_coords = conn_coord.iloc[0, [0,1,2]].values"
   ]
  },
  {
   "cell_type": "code",
   "execution_count": 27,
   "id": "ab8f8ac0",
   "metadata": {},
   "outputs": [
    {
     "data": {
      "text/html": [
       "<div>\n",
       "<style scoped>\n",
       "    .dataframe tbody tr th:only-of-type {\n",
       "        vertical-align: middle;\n",
       "    }\n",
       "\n",
       "    .dataframe tbody tr th {\n",
       "        vertical-align: top;\n",
       "    }\n",
       "\n",
       "    .dataframe thead th {\n",
       "        text-align: right;\n",
       "    }\n",
       "</style>\n",
       "<table border=\"1\" class=\"dataframe\">\n",
       "  <thead>\n",
       "    <tr style=\"text-align: right;\">\n",
       "      <th></th>\n",
       "      <th>coord_x</th>\n",
       "      <th>coord_y</th>\n",
       "      <th>coord_z</th>\n",
       "      <th>min_dist_atom</th>\n",
       "      <th>key</th>\n",
       "    </tr>\n",
       "  </thead>\n",
       "  <tbody>\n",
       "    <tr>\n",
       "      <th>51</th>\n",
       "      <td>3.463</td>\n",
       "      <td>10.389</td>\n",
       "      <td>3.205</td>\n",
       "      <td>2.65996</td>\n",
       "      <td>52</td>\n",
       "    </tr>\n",
       "  </tbody>\n",
       "</table>\n",
       "</div>"
      ],
      "text/plain": [
       "    coord_x  coord_y  coord_z  min_dist_atom key\n",
       "51    3.463   10.389    3.205        2.65996  52"
      ]
     },
     "execution_count": 27,
     "metadata": {},
     "output_type": "execute_result"
    }
   ],
   "source": [
    "conn_coord"
   ]
  },
  {
   "cell_type": "code",
   "execution_count": 14,
   "id": "8869480d",
   "metadata": {},
   "outputs": [],
   "source": [
    "points_s8_v = vertex_table\n",
    "points_s8_e = edge_table\n"
   ]
  },
  {
   "cell_type": "code",
   "execution_count": 15,
   "id": "e59e33df",
   "metadata": {},
   "outputs": [
    {
     "name": "stdout",
     "output_type": "stream",
     "text": [
      "Stored 'points_s8_v' (DataFrame)\n",
      "Stored 'points_s8_e' (DataFrame)\n"
     ]
    }
   ],
   "source": [
    "%store points_s8_v\n",
    "%store points_s8_e"
   ]
  },
  {
   "cell_type": "code",
   "execution_count": 19,
   "id": "7e1a53b3",
   "metadata": {},
   "outputs": [
    {
     "data": {
      "text/plain": [
       "array([13.852, 13.852, 12.82 ])"
      ]
     },
     "execution_count": 19,
     "metadata": {},
     "output_type": "execute_result"
    }
   ],
   "source": [
    "np.array(cell_dim)"
   ]
  },
  {
   "cell_type": "code",
   "execution_count": null,
   "id": "fa53a187",
   "metadata": {},
   "outputs": [],
   "source": []
  }
 ],
 "metadata": {
  "kernelspec": {
   "display_name": "Python 3 (ipykernel)",
   "language": "python",
   "name": "python3"
  },
  "language_info": {
   "codemirror_mode": {
    "name": "ipython",
    "version": 3
   },
   "file_extension": ".py",
   "mimetype": "text/x-python",
   "name": "python",
   "nbconvert_exporter": "python",
   "pygments_lexer": "ipython3",
   "version": "3.8.8"
  }
 },
 "nbformat": 4,
 "nbformat_minor": 5
}
