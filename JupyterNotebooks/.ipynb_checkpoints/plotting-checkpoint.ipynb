{
 "cells": [
  {
   "cell_type": "code",
   "execution_count": 308,
   "id": "f23d3262",
   "metadata": {},
   "outputs": [],
   "source": [
    "%store -r mat_dic\n",
    "%store -r path_dic\n",
    "%store -r cell_length"
   ]
  },
  {
   "cell_type": "code",
   "execution_count": 335,
   "id": "6355f647",
   "metadata": {},
   "outputs": [
    {
     "data": {
      "text/plain": [
       "'/home/lucasperea/Documents/GraphMaterials/JupyterNotebooks'"
      ]
     },
     "execution_count": 335,
     "metadata": {},
     "output_type": "execute_result"
    }
   ],
   "source": [
    "os.getcwd()"
   ]
  },
  {
   "cell_type": "code",
   "execution_count": 336,
   "id": "c41b0b56",
   "metadata": {},
   "outputs": [],
   "source": [
    "with open('../result/mat_df', 'wb') as handle:\n",
    "    pickle.dump(mat_df, handle)\n",
    "    \n",
    "with open('../result/path_df', 'wb') as handle:\n",
    "    pickle.dump(path_df, handle)\n",
    "    \n",
    "with open('../result/cell_length', 'wb') as handle:\n",
    "    pickle.dump(cell_length, handle)"
   ]
  },
  {
   "cell_type": "code",
   "execution_count": 331,
   "id": "1139d18b",
   "metadata": {},
   "outputs": [],
   "source": [
    "import seaborn as sns\n",
    "import matplotlib.pyplot as plt\n",
    "import pandas as pd\n",
    "import os\n",
    "import pickle "
   ]
  },
  {
   "cell_type": "code",
   "execution_count": 322,
   "id": "0063c33e",
   "metadata": {},
   "outputs": [
    {
     "data": {
      "text/html": [
       "<div>\n",
       "<style scoped>\n",
       "    .dataframe tbody tr th:only-of-type {\n",
       "        vertical-align: middle;\n",
       "    }\n",
       "\n",
       "    .dataframe tbody tr th {\n",
       "        vertical-align: top;\n",
       "    }\n",
       "\n",
       "    .dataframe thead th {\n",
       "        text-align: right;\n",
       "    }\n",
       "</style>\n",
       "<table border=\"1\" class=\"dataframe\">\n",
       "  <thead>\n",
       "    <tr style=\"text-align: right;\">\n",
       "      <th></th>\n",
       "      <th>LargerNode</th>\n",
       "      <th>IndexLN</th>\n",
       "      <th>MostConnectedNodeCell</th>\n",
       "      <th>RadiusMCNC</th>\n",
       "      <th>MostConnectedNodeCellValue</th>\n",
       "      <th>MostConnectedAll</th>\n",
       "      <th>RadiusMCNA</th>\n",
       "      <th>MostConnectedAllValue</th>\n",
       "    </tr>\n",
       "  </thead>\n",
       "  <tbody>\n",
       "    <tr>\n",
       "      <th>MVY</th>\n",
       "      <td>1.35952</td>\n",
       "      <td>38.0</td>\n",
       "      <td>42.0</td>\n",
       "      <td>1.35952</td>\n",
       "      <td>502.679021</td>\n",
       "      <td>5459.0</td>\n",
       "      <td>0.830997</td>\n",
       "      <td>503.205200</td>\n",
       "    </tr>\n",
       "    <tr>\n",
       "      <th>BCT</th>\n",
       "      <td>1.40635</td>\n",
       "      <td>21.0</td>\n",
       "      <td>21.0</td>\n",
       "      <td>1.40635</td>\n",
       "      <td>177.470505</td>\n",
       "      <td>206.0</td>\n",
       "      <td>1.031840</td>\n",
       "      <td>179.136703</td>\n",
       "    </tr>\n",
       "    <tr>\n",
       "      <th>LIT</th>\n",
       "      <td>1.42036</td>\n",
       "      <td>35.0</td>\n",
       "      <td>139.0</td>\n",
       "      <td>1.42036</td>\n",
       "      <td>444.733542</td>\n",
       "      <td>7115.0</td>\n",
       "      <td>0.544476</td>\n",
       "      <td>446.876373</td>\n",
       "    </tr>\n",
       "    <tr>\n",
       "      <th>RWR</th>\n",
       "      <td>1.71394</td>\n",
       "      <td>11.0</td>\n",
       "      <td>191.0</td>\n",
       "      <td>1.71394</td>\n",
       "      <td>567.355028</td>\n",
       "      <td>3385.0</td>\n",
       "      <td>1.417350</td>\n",
       "      <td>567.444275</td>\n",
       "    </tr>\n",
       "    <tr>\n",
       "      <th>CHI</th>\n",
       "      <td>1.76449</td>\n",
       "      <td>24.0</td>\n",
       "      <td>22.0</td>\n",
       "      <td>1.67090</td>\n",
       "      <td>529.802837</td>\n",
       "      <td>16673.0</td>\n",
       "      <td>0.406674</td>\n",
       "      <td>532.981201</td>\n",
       "    </tr>\n",
       "    <tr>\n",
       "      <th>...</th>\n",
       "      <td>...</td>\n",
       "      <td>...</td>\n",
       "      <td>...</td>\n",
       "      <td>...</td>\n",
       "      <td>...</td>\n",
       "      <td>...</td>\n",
       "      <td>...</td>\n",
       "      <td>...</td>\n",
       "    </tr>\n",
       "    <tr>\n",
       "      <th>VFI</th>\n",
       "      <td>5.81383</td>\n",
       "      <td>45.0</td>\n",
       "      <td>51.0</td>\n",
       "      <td>5.49665</td>\n",
       "      <td>3809.785622</td>\n",
       "      <td>5896.0</td>\n",
       "      <td>2.396170</td>\n",
       "      <td>3837.189941</td>\n",
       "    </tr>\n",
       "    <tr>\n",
       "      <th>SBE</th>\n",
       "      <td>6.06950</td>\n",
       "      <td>443.0</td>\n",
       "      <td>652.0</td>\n",
       "      <td>5.77727</td>\n",
       "      <td>1544.640396</td>\n",
       "      <td>39819.0</td>\n",
       "      <td>0.245544</td>\n",
       "      <td>1549.920898</td>\n",
       "    </tr>\n",
       "    <tr>\n",
       "      <th>IRR</th>\n",
       "      <td>7.02949</td>\n",
       "      <td>25.0</td>\n",
       "      <td>392.0</td>\n",
       "      <td>6.22195</td>\n",
       "      <td>3857.012599</td>\n",
       "      <td>7552.0</td>\n",
       "      <td>0.705115</td>\n",
       "      <td>3952.259766</td>\n",
       "    </tr>\n",
       "    <tr>\n",
       "      <th>CLO</th>\n",
       "      <td>7.66038</td>\n",
       "      <td>6.0</td>\n",
       "      <td>6.0</td>\n",
       "      <td>7.66038</td>\n",
       "      <td>1541.292508</td>\n",
       "      <td>59807.0</td>\n",
       "      <td>2.267720</td>\n",
       "      <td>1543.853638</td>\n",
       "    </tr>\n",
       "    <tr>\n",
       "      <th>TSC</th>\n",
       "      <td>8.02503</td>\n",
       "      <td>170.0</td>\n",
       "      <td>828.0</td>\n",
       "      <td>8.02503</td>\n",
       "      <td>4774.580842</td>\n",
       "      <td>71917.0</td>\n",
       "      <td>0.136396</td>\n",
       "      <td>4823.334961</td>\n",
       "    </tr>\n",
       "  </tbody>\n",
       "</table>\n",
       "<p>202 rows × 8 columns</p>\n",
       "</div>"
      ],
      "text/plain": [
       "     LargerNode  IndexLN  MostConnectedNodeCell  RadiusMCNC  \\\n",
       "MVY     1.35952     38.0                   42.0     1.35952   \n",
       "BCT     1.40635     21.0                   21.0     1.40635   \n",
       "LIT     1.42036     35.0                  139.0     1.42036   \n",
       "RWR     1.71394     11.0                  191.0     1.71394   \n",
       "CHI     1.76449     24.0                   22.0     1.67090   \n",
       "..          ...      ...                    ...         ...   \n",
       "VFI     5.81383     45.0                   51.0     5.49665   \n",
       "SBE     6.06950    443.0                  652.0     5.77727   \n",
       "IRR     7.02949     25.0                  392.0     6.22195   \n",
       "CLO     7.66038      6.0                    6.0     7.66038   \n",
       "TSC     8.02503    170.0                  828.0     8.02503   \n",
       "\n",
       "     MostConnectedNodeCellValue  MostConnectedAll  RadiusMCNA  \\\n",
       "MVY                  502.679021            5459.0    0.830997   \n",
       "BCT                  177.470505             206.0    1.031840   \n",
       "LIT                  444.733542            7115.0    0.544476   \n",
       "RWR                  567.355028            3385.0    1.417350   \n",
       "CHI                  529.802837           16673.0    0.406674   \n",
       "..                          ...               ...         ...   \n",
       "VFI                 3809.785622            5896.0    2.396170   \n",
       "SBE                 1544.640396           39819.0    0.245544   \n",
       "IRR                 3857.012599            7552.0    0.705115   \n",
       "CLO                 1541.292508           59807.0    2.267720   \n",
       "TSC                 4774.580842           71917.0    0.136396   \n",
       "\n",
       "     MostConnectedAllValue  \n",
       "MVY             503.205200  \n",
       "BCT             179.136703  \n",
       "LIT             446.876373  \n",
       "RWR             567.444275  \n",
       "CHI             532.981201  \n",
       "..                     ...  \n",
       "VFI            3837.189941  \n",
       "SBE            1549.920898  \n",
       "IRR            3952.259766  \n",
       "CLO            1543.853638  \n",
       "TSC            4823.334961  \n",
       "\n",
       "[202 rows x 8 columns]"
      ]
     },
     "execution_count": 322,
     "metadata": {},
     "output_type": "execute_result"
    }
   ],
   "source": [
    "mat_df = pd.DataFrame(mat_dic).transpose()\n",
    "mat_df.sort_values(by='LargerNode')"
   ]
  },
  {
   "cell_type": "code",
   "execution_count": 330,
   "id": "f5ef9977",
   "metadata": {},
   "outputs": [
    {
     "data": {
      "text/plain": [
       "116"
      ]
     },
     "execution_count": 330,
     "metadata": {},
     "output_type": "execute_result"
    }
   ],
   "source": [
    "equal_radius = mat_df.loc[mat_safe['LargerNode'] == mat_safe['RadiusMCNC']]\n",
    "len(equal_radius)"
   ]
  },
  {
   "cell_type": "code",
   "execution_count": 293,
   "id": "8d1c821a",
   "metadata": {},
   "outputs": [
    {
     "data": {
      "text/plain": [
       "76"
      ]
     },
     "execution_count": 293,
     "metadata": {},
     "output_type": "execute_result"
    }
   ],
   "source": [
    "len(unequal_radius.loc[unequal_radius['RadiusMCNC'].between(unequal_radius['LargerNode']-0.3, unequal_radius['LargerNode'])])"
   ]
  },
  {
   "cell_type": "code",
   "execution_count": 328,
   "id": "d56180f2",
   "metadata": {},
   "outputs": [
    {
     "data": {
      "text/plain": [
       "173"
      ]
     },
     "execution_count": 328,
     "metadata": {},
     "output_type": "execute_result"
    }
   ],
   "source": [
    "len(unequal_radius.loc[unequal_radius['RadiusMCNC'].between\n",
    "                       (unequal_radius['LargerNode']-0.05*unequal_radius['LargerNode'], unequal_radius['LargerNode'])\n",
    "                       , ['LargerNode', 'RadiusMCNC']]) +116"
   ]
  },
  {
   "cell_type": "code",
   "execution_count": 311,
   "id": "92294fd4",
   "metadata": {},
   "outputs": [
    {
     "data": {
      "image/png": "[encoded data removed]",
      "text/plain": [
       "<Figure size 432x288 with 1 Axes>"
      ]
     },
     "metadata": {
      "needs_background": "light"
     },
     "output_type": "display_data"
    }
   ],
   "source": [
    "radius_pore1 = mat_df.loc[:, ['LargerNode', 'RadiusMCNC']]\n",
    "radius_pore = radius_pore1.assign(radius_diff=radius_pore1['LargerNode']-radius_pore1['RadiusMCNC'])\n",
    "ax = sns.histplot(data=radius_pore, x=\"radius_diff\",  binwidth= 0.1)\n",
    "ax.set(xlabel='Difference between RadiusLargerNode\\RadiusMostConnectedNode')\n",
    "plt.savefig('../result/DiffRadius.jpg')"
   ]
  },
  {
   "cell_type": "code",
   "execution_count": 302,
   "id": "8f93829c",
   "metadata": {},
   "outputs": [
    {
     "data": {
      "text/html": [
       "<div>\n",
       "<style scoped>\n",
       "    .dataframe tbody tr th:only-of-type {\n",
       "        vertical-align: middle;\n",
       "    }\n",
       "\n",
       "    .dataframe tbody tr th {\n",
       "        vertical-align: top;\n",
       "    }\n",
       "\n",
       "    .dataframe thead th {\n",
       "        text-align: right;\n",
       "    }\n",
       "</style>\n",
       "<table border=\"1\" class=\"dataframe\">\n",
       "  <thead>\n",
       "    <tr style=\"text-align: right;\">\n",
       "      <th></th>\n",
       "      <th>LargerNode</th>\n",
       "      <th>RadiusMCNC</th>\n",
       "      <th>radius_diff</th>\n",
       "    </tr>\n",
       "  </thead>\n",
       "  <tbody>\n",
       "    <tr>\n",
       "      <th>DFO</th>\n",
       "      <td>5.44510</td>\n",
       "      <td>4.22833</td>\n",
       "      <td>1.21677</td>\n",
       "    </tr>\n",
       "    <tr>\n",
       "      <th>IRR</th>\n",
       "      <td>7.02949</td>\n",
       "      <td>6.22195</td>\n",
       "      <td>0.80754</td>\n",
       "    </tr>\n",
       "    <tr>\n",
       "      <th>LTF</th>\n",
       "      <td>3.87814</td>\n",
       "      <td>3.17323</td>\n",
       "      <td>0.70491</td>\n",
       "    </tr>\n",
       "    <tr>\n",
       "      <th>MWW</th>\n",
       "      <td>4.64396</td>\n",
       "      <td>4.01447</td>\n",
       "      <td>0.62949</td>\n",
       "    </tr>\n",
       "    <tr>\n",
       "      <th>STF</th>\n",
       "      <td>3.61468</td>\n",
       "      <td>2.99043</td>\n",
       "      <td>0.62425</td>\n",
       "    </tr>\n",
       "    <tr>\n",
       "      <th>WEN</th>\n",
       "      <td>2.56386</td>\n",
       "      <td>1.96205</td>\n",
       "      <td>0.60181</td>\n",
       "    </tr>\n",
       "    <tr>\n",
       "      <th>SYT</th>\n",
       "      <td>3.94470</td>\n",
       "      <td>3.37006</td>\n",
       "      <td>0.57464</td>\n",
       "    </tr>\n",
       "    <tr>\n",
       "      <th>PTY</th>\n",
       "      <td>2.35702</td>\n",
       "      <td>1.95855</td>\n",
       "      <td>0.39847</td>\n",
       "    </tr>\n",
       "    <tr>\n",
       "      <th>SAF</th>\n",
       "      <td>3.13126</td>\n",
       "      <td>2.81279</td>\n",
       "      <td>0.31847</td>\n",
       "    </tr>\n",
       "    <tr>\n",
       "      <th>VFI</th>\n",
       "      <td>5.81383</td>\n",
       "      <td>5.49665</td>\n",
       "      <td>0.31718</td>\n",
       "    </tr>\n",
       "    <tr>\n",
       "      <th>LTJ</th>\n",
       "      <td>1.84809</td>\n",
       "      <td>1.55530</td>\n",
       "      <td>0.29279</td>\n",
       "    </tr>\n",
       "  </tbody>\n",
       "</table>\n",
       "</div>"
      ],
      "text/plain": [
       "     LargerNode  RadiusMCNC  radius_diff\n",
       "DFO     5.44510     4.22833      1.21677\n",
       "IRR     7.02949     6.22195      0.80754\n",
       "LTF     3.87814     3.17323      0.70491\n",
       "MWW     4.64396     4.01447      0.62949\n",
       "STF     3.61468     2.99043      0.62425\n",
       "WEN     2.56386     1.96205      0.60181\n",
       "SYT     3.94470     3.37006      0.57464\n",
       "PTY     2.35702     1.95855      0.39847\n",
       "SAF     3.13126     2.81279      0.31847\n",
       "VFI     5.81383     5.49665      0.31718\n",
       "LTJ     1.84809     1.55530      0.29279"
      ]
     },
     "execution_count": 302,
     "metadata": {},
     "output_type": "execute_result"
    }
   ],
   "source": [
    "radius_pore.sort_values(by='radius_diff', ascending=False).iloc[0:11, :]"
   ]
  },
  {
   "cell_type": "code",
   "execution_count": 303,
   "id": "d9813d0e",
   "metadata": {},
   "outputs": [],
   "source": [
    "relative_dic =  {}\n",
    "path_df = pd.DataFrame(path_dic).transpose()\n",
    "path_df_red = path_df.loc[:, ['-100', '0-10', '00-1']]\n",
    "list_names = list(path_df_red.index)\n",
    "\n",
    "for name in list_names:\n",
    "    temp_rel = {}\n",
    "    for axis in ['-100', '0-10', '00-1']:\n",
    "        temp_rel['path_' + axis] = path_df_red.loc[path_df_red.index == name, [axis]].values[0][0][0]/cell_length[name][axis]\n",
    "#         temp_rel['vol_' + axis] = path_df_red.loc[path_df_red.index == name, [axis]].values[0][0][1]\n",
    "        temp_rel['vol_' + axis] = path_df_red.loc[path_df_red.index == name, [axis]].values[0][0][2]\n",
    "    relative_dic[name] = temp_rel"
   ]
  },
  {
   "cell_type": "code",
   "execution_count": 304,
   "id": "5cfcca5d",
   "metadata": {},
   "outputs": [
    {
     "data": {
      "text/plain": [
       "True"
      ]
     },
     "execution_count": 304,
     "metadata": {},
     "output_type": "execute_result"
    }
   ],
   "source": [
    "list(cell_length.keys()) == list(path_df_red.index)\n",
    "# print(len(list(path_df_red.index)))"
   ]
  },
  {
   "cell_type": "code",
   "execution_count": 305,
   "id": "5926d4e6",
   "metadata": {},
   "outputs": [
    {
     "data": {
      "text/html": [
       "<div>\n",
       "<style scoped>\n",
       "    .dataframe tbody tr th:only-of-type {\n",
       "        vertical-align: middle;\n",
       "    }\n",
       "\n",
       "    .dataframe tbody tr th {\n",
       "        vertical-align: top;\n",
       "    }\n",
       "\n",
       "    .dataframe thead th {\n",
       "        text-align: right;\n",
       "    }\n",
       "</style>\n",
       "<table border=\"1\" class=\"dataframe\">\n",
       "  <thead>\n",
       "    <tr style=\"text-align: right;\">\n",
       "      <th></th>\n",
       "      <th>path_-100</th>\n",
       "      <th>vol_-100</th>\n",
       "      <th>path_0-10</th>\n",
       "      <th>vol_0-10</th>\n",
       "      <th>path_00-1</th>\n",
       "      <th>vol_00-1</th>\n",
       "    </tr>\n",
       "  </thead>\n",
       "  <tbody>\n",
       "    <tr>\n",
       "      <th>IRR</th>\n",
       "      <td>0.914298</td>\n",
       "      <td>9.76</td>\n",
       "      <td>0.914298</td>\n",
       "      <td>9.76</td>\n",
       "      <td>0.999929</td>\n",
       "      <td>112.27</td>\n",
       "    </tr>\n",
       "    <tr>\n",
       "      <th>VFI</th>\n",
       "      <td>1.189565</td>\n",
       "      <td>23.73</td>\n",
       "      <td>1.189565</td>\n",
       "      <td>23.72</td>\n",
       "      <td>1.000116</td>\n",
       "      <td>94.91</td>\n",
       "    </tr>\n",
       "    <tr>\n",
       "      <th>ETR</th>\n",
       "      <td>0.936803</td>\n",
       "      <td>6.54</td>\n",
       "      <td>0.936803</td>\n",
       "      <td>6.54</td>\n",
       "      <td>1.047947</td>\n",
       "      <td>57.27</td>\n",
       "    </tr>\n",
       "    <tr>\n",
       "      <th>RHO</th>\n",
       "      <td>1.286279</td>\n",
       "      <td>20.13</td>\n",
       "      <td>1.012802</td>\n",
       "      <td>31.74</td>\n",
       "      <td>1.284268</td>\n",
       "      <td>57.04</td>\n",
       "    </tr>\n",
       "    <tr>\n",
       "      <th>BPH</th>\n",
       "      <td>0.985678</td>\n",
       "      <td>19.68</td>\n",
       "      <td>0.985678</td>\n",
       "      <td>19.68</td>\n",
       "      <td>1.048654</td>\n",
       "      <td>56.02</td>\n",
       "    </tr>\n",
       "    <tr>\n",
       "      <th>...</th>\n",
       "      <td>...</td>\n",
       "      <td>...</td>\n",
       "      <td>...</td>\n",
       "      <td>...</td>\n",
       "      <td>...</td>\n",
       "      <td>...</td>\n",
       "    </tr>\n",
       "    <tr>\n",
       "      <th>RWR</th>\n",
       "      <td>1.021009</td>\n",
       "      <td>3.26</td>\n",
       "      <td>1.005637</td>\n",
       "      <td>6.29</td>\n",
       "      <td>1.173309</td>\n",
       "      <td>1.28</td>\n",
       "    </tr>\n",
       "    <tr>\n",
       "      <th>NSI</th>\n",
       "      <td>1.150825</td>\n",
       "      <td>2.94</td>\n",
       "      <td>1.045117</td>\n",
       "      <td>5.75</td>\n",
       "      <td>1.320565</td>\n",
       "      <td>1.22</td>\n",
       "    </tr>\n",
       "    <tr>\n",
       "      <th>MVY</th>\n",
       "      <td>1.061542</td>\n",
       "      <td>1.58</td>\n",
       "      <td>1.459944</td>\n",
       "      <td>1.22</td>\n",
       "      <td>1.208414</td>\n",
       "      <td>1.21</td>\n",
       "    </tr>\n",
       "    <tr>\n",
       "      <th>AST</th>\n",
       "      <td>0.999706</td>\n",
       "      <td>0.71</td>\n",
       "      <td>0.999706</td>\n",
       "      <td>0.71</td>\n",
       "      <td>0.999706</td>\n",
       "      <td>0.71</td>\n",
       "    </tr>\n",
       "    <tr>\n",
       "      <th>ACO</th>\n",
       "      <td>1.134780</td>\n",
       "      <td>8.57</td>\n",
       "      <td>1.134780</td>\n",
       "      <td>8.57</td>\n",
       "      <td>0.999495</td>\n",
       "      <td>0.51</td>\n",
       "    </tr>\n",
       "  </tbody>\n",
       "</table>\n",
       "<p>202 rows × 6 columns</p>\n",
       "</div>"
      ],
      "text/plain": [
       "     path_-100  vol_-100  path_0-10  vol_0-10  path_00-1  vol_00-1\n",
       "IRR   0.914298      9.76   0.914298      9.76   0.999929    112.27\n",
       "VFI   1.189565     23.73   1.189565     23.72   1.000116     94.91\n",
       "ETR   0.936803      6.54   0.936803      6.54   1.047947     57.27\n",
       "RHO   1.286279     20.13   1.012802     31.74   1.284268     57.04\n",
       "BPH   0.985678     19.68   0.985678     19.68   1.048654     56.02\n",
       "..         ...       ...        ...       ...        ...       ...\n",
       "RWR   1.021009      3.26   1.005637      6.29   1.173309      1.28\n",
       "NSI   1.150825      2.94   1.045117      5.75   1.320565      1.22\n",
       "MVY   1.061542      1.58   1.459944      1.22   1.208414      1.21\n",
       "AST   0.999706      0.71   0.999706      0.71   0.999706      0.71\n",
       "ACO   1.134780      8.57   1.134780      8.57   0.999495      0.51\n",
       "\n",
       "[202 rows x 6 columns]"
      ]
     },
     "execution_count": 305,
     "metadata": {},
     "output_type": "execute_result"
    }
   ],
   "source": [
    "pd.DataFrame(relative_dic).transpose().sort_values(by='vol_-100', ascending=False)\n",
    "pd.DataFrame(relative_dic).transpose().sort_values(by='vol_0-10', ascending=False)\n",
    "pd.DataFrame(relative_dic).transpose().sort_values(by='vol_00-1', ascending=False)"
   ]
  },
  {
   "cell_type": "code",
   "execution_count": 306,
   "id": "9d4b3d9f",
   "metadata": {},
   "outputs": [],
   "source": [
    "connec_df = pd.DataFrame(relative_dic).transpose()\n",
    "# sns.histplot(data=connec_df, x=\"vol_00-1\", kde=True, bins=10)\n",
    "# for \n",
    "# ax = sns.boxplot(x=connec_df[\"vol_00-1\"])"
   ]
  },
  {
   "cell_type": "code",
   "execution_count": 307,
   "id": "5c4c1d37",
   "metadata": {},
   "outputs": [
    {
     "data": {
      "image/png": "[encoded data removed]",
      "text/plain": [
       "<Figure size 504x288 with 1 Axes>"
      ]
     },
     "metadata": {
      "needs_background": "light"
     },
     "output_type": "display_data"
    }
   ],
   "source": [
    "fig, ax = plt.subplots(figsize=(7,4))\n",
    "\n",
    "\n",
    "dic_temp = {'VolumeCarriedX':list(connec_df['vol_-100'].values), \n",
    "            'VolumeCarriedY':list(connec_df['vol_0-10'].values), \n",
    "            'VolumeCarriedZ':list(connec_df['vol_00-1'].values)}\n",
    "ax.boxplot(dic_temp.values(), patch_artist=True )\n",
    "ax.set_xticklabels(dic_temp.keys(), fontdict={'fontsize':10})\n",
    "# ax.set_yticklabels(list(range(-10,70,10)),fontdict={'fontsize':10})\n",
    "plt.tight_layout()\n",
    "plt.savefig('../result/VolBoxPlot.jpg')"
   ]
  },
  {
   "cell_type": "code",
   "execution_count": 281,
   "id": "70c305dc",
   "metadata": {},
   "outputs": [
    {
     "data": {
      "text/plain": [
       "[0, 10, 20, 30, 40, 50]"
      ]
     },
     "execution_count": 281,
     "metadata": {},
     "output_type": "execute_result"
    }
   ],
   "source": [
    "list(range(0,60,10))"
   ]
  },
  {
   "cell_type": "code",
   "execution_count": 344,
   "id": "fe40a9a6",
   "metadata": {},
   "outputs": [],
   "source": [
    "con_x = pd.DataFrame(relative_dic).transpose().sort_values(by='vol_-100', ascending=False)"
   ]
  },
  {
   "cell_type": "code",
   "execution_count": 345,
   "id": "ee203d8b",
   "metadata": {},
   "outputs": [],
   "source": [
    "con_y = pd.DataFrame(relative_dic).transpose().sort_values(by='vol_0-10', ascending=False)"
   ]
  },
  {
   "cell_type": "code",
   "execution_count": 346,
   "id": "3678dcd3",
   "metadata": {},
   "outputs": [],
   "source": [
    "con_z = pd.DataFrame(relative_dic).transpose().sort_values(by='vol_00-1', ascending=False)"
   ]
  },
  {
   "cell_type": "code",
   "execution_count": 347,
   "id": "cad218ca",
   "metadata": {},
   "outputs": [
    {
     "name": "stdout",
     "output_type": "stream",
     "text": [
      "Stored 'con_x' (DataFrame)\n",
      "Stored 'con_y' (DataFrame)\n",
      "Stored 'con_z' (DataFrame)\n"
     ]
    }
   ],
   "source": [
    "%store con_x\n",
    "%store con_y\n",
    "%store con_z"
   ]
  },
  {
   "cell_type": "code",
   "execution_count": null,
   "id": "82dcb88c",
   "metadata": {},
   "outputs": [],
   "source": []
  }
 ],
 "metadata": {
  "kernelspec": {
   "display_name": "Python 3 (ipykernel)",
   "language": "python",
   "name": "python3"
  },
  "language_info": {
   "codemirror_mode": {
    "name": "ipython",
    "version": 3
   },
   "file_extension": ".py",
   "mimetype": "text/x-python",
   "name": "python",
   "nbconvert_exporter": "python",
   "pygments_lexer": "ipython3",
   "version": "3.10.1"
  }
 },
 "nbformat": 4,
 "nbformat_minor": 5
}
