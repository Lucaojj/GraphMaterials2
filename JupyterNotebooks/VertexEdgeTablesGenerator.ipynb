{
 "cells": [
  {
   "cell_type": "code",
   "execution_count": 15,
   "id": "f6280862",
   "metadata": {},
   "outputs": [
    {
     "name": "stdout",
     "output_type": "stream",
     "text": [
      "The autoreload extension is already loaded. To reload it, use:\n",
      "  %reload_ext autoreload\n"
     ]
    }
   ],
   "source": [
    "import os\n",
    "os.getcwd()\n",
    "os.chdir('/home/lucasperea/Documents/GithubRep/GraphMaterials/')\n",
    "import pandas as pd\n",
    "import pickle\n",
    "import numpy as np\n",
    "import pymatgen\n",
    "from pymatgen.core.structure import Structure\n",
    "from GraphFunc.PageRankFunction import PageRank\n",
    "from GraphFunc.ConexionFunction import Conexion\n",
    "from GraphFunc.ZeoDataframeFunction import ZeoDataframe\n",
    "from GraphFunc.EdgeFileFunction import EdgeFile\n",
    "import seaborn as sns\n",
    "%load_ext autoreload\n",
    "%autoreload 2"
   ]
  },
  {
   "cell_type": "code",
   "execution_count": 10,
   "id": "4c22c9fc",
   "metadata": {},
   "outputs": [
    {
     "data": {
      "text/plain": [
       "'/home/lucasperea/Documents/GithubRep/GraphMaterials'"
      ]
     },
     "execution_count": 10,
     "metadata": {},
     "output_type": "execute_result"
    }
   ],
   "source": [
    "os.getcwd()"
   ]
  },
  {
   "cell_type": "code",
   "execution_count": 14,
   "id": "cab9a914",
   "metadata": {},
   "outputs": [],
   "source": [
    "\n",
    "\n",
    "\n",
    "\n",
    "# t = 0\n",
    "# for nt2_name in os.listdir('./Nt2Files/'):\n",
    "    \n",
    "#     name = nt2_name.split('.')[0]\n",
    "    \n",
    "#     struct = Structure.from_file('./CifFiles/' + name + '.cif')\n",
    "\n",
    "#     cell_dim = struct._lattice.abc\n",
    "\n",
    "#     # Convert nt2 file into Dataframe objects\n",
    "#     multiplier = np.array([1,1,1]) #6.4\n",
    "#     box = np.array([cell_dim[0], cell_dim[1], cell_dim[2]])\n",
    "    \n",
    "#     nt2_path = './Nt2Files/' + nt2_name\n",
    "\n",
    "#     edge_table, vertex_table = ZeoDataframe(nt2_path, multiplier, box)\n",
    "    \n",
    "    \n",
    "#     with open('./EdgeTables/' + name + '_edgetable', 'wb') as handle:\n",
    "#         pickle.dump(edge_table, handle, protocol=pickle.HIGHEST_PROTOCOL)\n",
    "        \n",
    "#     with open('./VertexTables/' + name + '_vertextable', 'wb') as handle:\n",
    "#         pickle.dump(vertex_table, handle, protocol=pickle.HIGHEST_PROTOCOL)\n",
    "\n",
    "#     t += 1\n",
    "#     print(t)"
   ]
  },
  {
   "cell_type": "code",
   "execution_count": 41,
   "id": "2199dc38",
   "metadata": {},
   "outputs": [],
   "source": [
    "number_nodes_sum = {}\n",
    "for name in os.listdir('./VertexTables/'):\n",
    "    with open('./VertexTables/' + name, 'rb') as handle:\n",
    "        table = pickle.load(handle)\n",
    "        \n",
    "       \n",
    "    num_nodes = round(len(table)*0.05)\n",
    "    ind = np.argsort(table['min_dist_atom'])[-1:-num_nodes:-1].values\n",
    "    total = np.sum(np.array(table['min_dist_atom'])[ind])\n",
    "    \n",
    "    number_nodes_sum[name.split('_')[0]] = {'total':total}"
   ]
  },
  {
   "cell_type": "code",
   "execution_count": 44,
   "id": "af286e50",
   "metadata": {},
   "outputs": [
    {
     "data": {
      "text/plain": [
       "'/home/lucasperea/Documents/GithubRep/GraphMaterials'"
      ]
     },
     "execution_count": 44,
     "metadata": {},
     "output_type": "execute_result"
    }
   ],
   "source": [
    "os.getcwd()\n",
    "os.chdir()"
   ]
  },
  {
   "cell_type": "code",
   "execution_count": 45,
   "id": "f5eb8580",
   "metadata": {},
   "outputs": [],
   "source": [
    "pd.DataFrame(number_nodes_sum).transpose()\n",
    "with open('/home/lucasperea/Documents/1.A_Dijkstra/JupyterNotebook/PoreSizeVsConnectivity/ComparisonResult/sum', 'wb') as handle:\n",
    "    pickle.dump(pd.DataFrame(number_nodes_sum).transpose(), handle, protocol=pickle.HIGHEST_PROTOCOL)"
   ]
  },
  {
   "cell_type": "code",
   "execution_count": 34,
   "id": "cb444593",
   "metadata": {},
   "outputs": [
    {
     "data": {
      "text/plain": [
       "23.029410000000002"
      ]
     },
     "execution_count": 34,
     "metadata": {},
     "output_type": "execute_result"
    }
   ],
   "source": [
    "ind = np.argsort(vertex_table['min_dist_atom'])[-1:-5:-1].values\n",
    "np.sum(np.array(vertex_table['min_dist_atom'])[ind])"
   ]
  },
  {
   "cell_type": "code",
   "execution_count": 33,
   "id": "fe07b6ef",
   "metadata": {},
   "outputs": [
    {
     "data": {
      "text/plain": [
       "coord_x            25.84\n",
       "coord_y            25.84\n",
       "coord_z            25.84\n",
       "min_dist_atom    7.66038\n",
       "key                  999\n",
       "dtype: object"
      ]
     },
     "execution_count": 33,
     "metadata": {},
     "output_type": "execute_result"
    }
   ],
   "source": [
    "vertex_table.max(axis=0)"
   ]
  },
  {
   "cell_type": "code",
   "execution_count": null,
   "id": "d82f7a97",
   "metadata": {},
   "outputs": [],
   "source": []
  }
 ],
 "metadata": {
  "kernelspec": {
   "display_name": "Python 3 (ipykernel)",
   "language": "python",
   "name": "python3"
  },
  "language_info": {
   "codemirror_mode": {
    "name": "ipython",
    "version": 3
   },
   "file_extension": ".py",
   "mimetype": "text/x-python",
   "name": "python",
   "nbconvert_exporter": "python",
   "pygments_lexer": "ipython3",
   "version": "3.8.8"
  }
 },
 "nbformat": 4,
 "nbformat_minor": 5
}
