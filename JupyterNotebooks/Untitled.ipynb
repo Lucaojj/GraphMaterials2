{
 "cells": [
  {
   "cell_type": "code",
   "execution_count": 1,
   "id": "440ec922",
   "metadata": {},
   "outputs": [],
   "source": [
    "import os\n",
    "os.getcwd()\n",
    "os.chdir('/home/lucasperea/Documents/GithubRep/GraphMaterials/')\n",
    "\n",
    "\n",
    "import pickle\n",
    "import numpy as np\n",
    "import pymatgen\n",
    "import matplotlib.pyplot as plt\n",
    "from pymatgen.core.structure import Structure\n",
    "from GraphFunc.PageRankFunction import PageRank\n",
    "from GraphFunc.ConexionFunction import Conexion\n",
    "from GraphFunc.ZeoDataframeFunction import ZeoDataframe\n",
    "from GraphFunc.EdgeFileFunction import EdgeFile\n",
    "import seaborn as sns\n",
    "%load_ext autoreload\n",
    "%autoreload 2"
   ]
  },
  {
   "cell_type": "code",
   "execution_count": 15,
   "id": "06d89e1a",
   "metadata": {},
   "outputs": [
    {
     "name": "stdout",
     "output_type": "stream",
     "text": [
      "15\n",
      "120\n",
      "120\n"
     ]
    }
   ],
   "source": [
    "EDI = Structure.from_file('./CifFiles/EDI.cif')\n",
    "print(len(EDI))\n",
    "# print(EDI.cart_coords)\n",
    "dir(EDI)\n",
    "n = 2\n",
    "EDI.make_supercell([n,n,n])\n",
    "print(len(EDI))\n",
    "n = 1\n",
    "EDI.make_supercell([n,n,n])\n",
    "EDI.cart_coords\n",
    "EDI.lattice.abc\n",
    "print(len(EDI))\n",
    "# print(EDI.cart_coords)"
   ]
  },
  {
   "cell_type": "code",
   "execution_count": 2,
   "id": "864a3dcc",
   "metadata": {},
   "outputs": [],
   "source": [
    "def Supercell(path_cif, lattice_vector, path_supercell):\n",
    "    \n",
    "    import pymatgen\n",
    "    from pymatgen.core.structure import Structure\n",
    "    from pymatgen.io.cif import CifWriter\n",
    "    \n",
    "    struct = Structure.from_file(path_cif)\n",
    "    struct.make_supercell(lattice_vector)\n",
    "    \n",
    "    CifWriter(struct).write_file(path_supercell)\n",
    "    print('Supercell DONE')\n",
    "    return struct.lattice.abc\n",
    "\n"
   ]
  },
  {
   "cell_type": "code",
   "execution_count": 142,
   "id": "306d8ec5",
   "metadata": {},
   "outputs": [
    {
     "name": "stdout",
     "output_type": "stream",
     "text": [
      "Supercell DONE\n"
     ]
    }
   ],
   "source": [
    "lattice8 = Supercell('./CifFiles/EDI.cif', [2,2,2], './SupercellFiles/SuperEDI8.cif')"
   ]
  },
  {
   "cell_type": "code",
   "execution_count": 143,
   "id": "06ab6aa8",
   "metadata": {},
   "outputs": [],
   "source": [
    "cell_dim = lattice8"
   ]
  },
  {
   "cell_type": "code",
   "execution_count": 45,
   "id": "14796f15",
   "metadata": {},
   "outputs": [
    {
     "name": "stdout",
     "output_type": "stream",
     "text": [
      "DataFrame DONE\n"
     ]
    }
   ],
   "source": [
    "multiplier = np.array([1,1,1]) #6.4\n",
    "box = np.array([cell_dim[0], cell_dim[1], cell_dim[2]])\n",
    "\n",
    "nt2_path = './SupercellFiles/SuperEDI8.nt2'\n",
    "\n",
    "edge_table, vertex_table = ZeoDataframe(nt2_path, multiplier, box)"
   ]
  },
  {
   "cell_type": "code",
   "execution_count": 46,
   "id": "69c6831d",
   "metadata": {},
   "outputs": [
    {
     "name": "stdout",
     "output_type": "stream",
     "text": [
      "Edge File DONE\n"
     ]
    }
   ],
   "source": [
    "# Create a file that describe conexions between nodes\n",
    "bound_path = './BoundFiles/Bound' + 'EDI' + '8' + '.text'\n",
    "path_edge_file = EdgeFile(bound_path, edge_table)\n",
    "\n",
    "# Dictionary used to calulatate the proporcion among the conexion in every node\n",
    "conexion = Conexion(vertex_table, edge_table)"
   ]
  },
  {
   "cell_type": "code",
   "execution_count": 47,
   "id": "de10dbc9",
   "metadata": {},
   "outputs": [
    {
     "name": "stdout",
     "output_type": "stream",
     "text": [
      "Number of total nodes: 552 \n",
      "\n",
      "Best connected node: 51 \n",
      "\n",
      "values for best connected node: 5.2707891464, worst connected node: 0.0012673590 \n",
      "\n",
      "Sum of values of all nodes: 512.9796786170\n",
      "PageRank DONE\n"
     ]
    }
   ],
   "source": [
    "# Pagerank algorithm \n",
    "# return an ax with the selected node located \n",
    "iteration = 50\n",
    "info, sum_nodes = PageRank(path_edge_file, conexion, iteration)"
   ]
  },
  {
   "cell_type": "code",
   "execution_count": 72,
   "id": "8faa3bcf",
   "metadata": {},
   "outputs": [
    {
     "name": "stdout",
     "output_type": "stream",
     "text": [
      "[5.270789  5.2692466 5.2437973 5.23651   5.2365017 5.2273116 5.198957\n",
      " 5.1912007 3.0506148]\n",
      "[ 51 539 146 538 545  60  65 541  57]\n"
     ]
    }
   ],
   "source": [
    "print(info[np.argsort(info)][-1:-10:-1])\n",
    "print(np.argsort(info)[-1:-10:-1])\n"
   ]
  },
  {
   "cell_type": "code",
   "execution_count": 98,
   "id": "b0c20994",
   "metadata": {},
   "outputs": [],
   "source": [
    "conn_coord = vertex_table.loc[vertex_table.index[[ 51]]]\n",
    "\n",
    "# for i in range(len(conn_coord)):\n",
    "#     conn_coord.iloc[i, ]\n",
    "\n",
    "destination_coords = conn_coord.iloc[0, [0,1,2]].values"
   ]
  },
  {
   "cell_type": "code",
   "execution_count": 149,
   "id": "a4d9b2a2",
   "metadata": {},
   "outputs": [
    {
     "data": {
      "text/plain": [
       "array([3.463, 10.389, 3.205], dtype=object)"
      ]
     },
     "execution_count": 149,
     "metadata": {},
     "output_type": "execute_result"
    }
   ],
   "source": [
    "destination_coords"
   ]
  },
  {
   "cell_type": "code",
   "execution_count": 167,
   "id": "83a75a79",
   "metadata": {},
   "outputs": [],
   "source": [
    "# cell_dim = np.array(cell_dim)/2\n",
    "cell_dim = np.array([13.852, 13.852, 12.82 ])"
   ]
  },
  {
   "cell_type": "code",
   "execution_count": 168,
   "id": "130c049c",
   "metadata": {},
   "outputs": [],
   "source": [
    "origin_coords = np.zeros((27, 3))\n",
    "for i in range(3):\n",
    "    for j in range(3):\n",
    "        for k in range(3):\n",
    "            origin_coords[k+3*j+9*i, :] = destination_coords - np.array([-cell_dim[0]*k, -cell_dim[1]*j, -cell_dim[2]*i])\n",
    "#             print(k+3*j+9*i)\n"
   ]
  },
  {
   "cell_type": "code",
   "execution_count": 147,
   "id": "49c705b7",
   "metadata": {},
   "outputs": [],
   "source": [
    "first_cell = origin_coords\n",
    "vertex_table.iloc[:, [0,1,2]].values\n",
    "destination_coords\n",
    "struct = Structure.from_file('./SupercellFiles/SuperEDI8.cif')\n",
    "# struct.cart_coords"
   ]
  },
  {
   "cell_type": "code",
   "execution_count": 150,
   "id": "2b173c15",
   "metadata": {},
   "outputs": [
    {
     "name": "stdout",
     "output_type": "stream",
     "text": [
      "Supercell DONE\n",
      "DataFrame DONE\n"
     ]
    }
   ],
   "source": [
    "lattice27 = Supercell('./SupercellFiles/SuperEDI8.cif', [3,3,3], './SupercellFiles/SuperEDI27.cif')\n",
    "cell_dim = lattice27\n",
    "\n",
    "multiplier = np.array([1,1,1]) #6.4\n",
    "box = np.array([cell_dim[0], cell_dim[1], cell_dim[2]])\n",
    "\n",
    "nt2_path = './SupercellFiles/SuperEDI27.nt2'\n",
    "\n",
    "edge_table, vertex_table = ZeoDataframe(nt2_path, multiplier, box)\n",
    "\n",
    "\n",
    "# Dictionary used to calulatate the proporcion among the conexion in every node\n",
    "conexion = Conexion(vertex_table, edge_table)\n",
    "\n",
    "\n"
   ]
  },
  {
   "cell_type": "code",
   "execution_count": 190,
   "id": "80d6d12e",
   "metadata": {},
   "outputs": [
    {
     "data": {
      "text/html": [
       "<div>\n",
       "<style scoped>\n",
       "    .dataframe tbody tr th:only-of-type {\n",
       "        vertical-align: middle;\n",
       "    }\n",
       "\n",
       "    .dataframe tbody tr th {\n",
       "        vertical-align: top;\n",
       "    }\n",
       "\n",
       "    .dataframe thead th {\n",
       "        text-align: right;\n",
       "    }\n",
       "</style>\n",
       "<table border=\"1\" class=\"dataframe\">\n",
       "  <thead>\n",
       "    <tr style=\"text-align: right;\">\n",
       "      <th></th>\n",
       "      <th>coord_x</th>\n",
       "      <th>coord_y</th>\n",
       "      <th>coord_z</th>\n",
       "      <th>min_dist_atom</th>\n",
       "      <th>key</th>\n",
       "    </tr>\n",
       "  </thead>\n",
       "  <tbody>\n",
       "    <tr>\n",
       "      <th>148</th>\n",
       "      <td>10.389</td>\n",
       "      <td>38.09300</td>\n",
       "      <td>3.205</td>\n",
       "      <td>2.65995</td>\n",
       "      <td>150</td>\n",
       "    </tr>\n",
       "    <tr>\n",
       "      <th>230</th>\n",
       "      <td>17.315</td>\n",
       "      <td>38.09300</td>\n",
       "      <td>3.205</td>\n",
       "      <td>2.65995</td>\n",
       "      <td>233</td>\n",
       "    </tr>\n",
       "    <tr>\n",
       "      <th>231</th>\n",
       "      <td>17.315</td>\n",
       "      <td>3.46301</td>\n",
       "      <td>3.205</td>\n",
       "      <td>2.65995</td>\n",
       "      <td>234</td>\n",
       "    </tr>\n",
       "    <tr>\n",
       "      <th>728</th>\n",
       "      <td>10.389</td>\n",
       "      <td>10.38900</td>\n",
       "      <td>3.205</td>\n",
       "      <td>2.65995</td>\n",
       "      <td>736</td>\n",
       "    </tr>\n",
       "    <tr>\n",
       "      <th>821</th>\n",
       "      <td>17.315</td>\n",
       "      <td>10.38900</td>\n",
       "      <td>3.205</td>\n",
       "      <td>2.65995</td>\n",
       "      <td>830</td>\n",
       "    </tr>\n",
       "    <tr>\n",
       "      <th>955</th>\n",
       "      <td>24.241</td>\n",
       "      <td>10.38900</td>\n",
       "      <td>3.205</td>\n",
       "      <td>2.65995</td>\n",
       "      <td>966</td>\n",
       "    </tr>\n",
       "    <tr>\n",
       "      <th>1024</th>\n",
       "      <td>31.167</td>\n",
       "      <td>10.38900</td>\n",
       "      <td>3.205</td>\n",
       "      <td>2.65995</td>\n",
       "      <td>1035</td>\n",
       "    </tr>\n",
       "    <tr>\n",
       "      <th>1399</th>\n",
       "      <td>17.315</td>\n",
       "      <td>17.31500</td>\n",
       "      <td>3.205</td>\n",
       "      <td>2.65995</td>\n",
       "      <td>1414</td>\n",
       "    </tr>\n",
       "    <tr>\n",
       "      <th>2030</th>\n",
       "      <td>10.389</td>\n",
       "      <td>24.24100</td>\n",
       "      <td>3.205</td>\n",
       "      <td>2.65995</td>\n",
       "      <td>2050</td>\n",
       "    </tr>\n",
       "    <tr>\n",
       "      <th>2091</th>\n",
       "      <td>17.315</td>\n",
       "      <td>24.24100</td>\n",
       "      <td>3.205</td>\n",
       "      <td>2.65995</td>\n",
       "      <td>2112</td>\n",
       "    </tr>\n",
       "    <tr>\n",
       "      <th>2474</th>\n",
       "      <td>10.389</td>\n",
       "      <td>31.16700</td>\n",
       "      <td>3.205</td>\n",
       "      <td>2.65995</td>\n",
       "      <td>2500</td>\n",
       "    </tr>\n",
       "    <tr>\n",
       "      <th>2566</th>\n",
       "      <td>17.315</td>\n",
       "      <td>31.16700</td>\n",
       "      <td>3.205</td>\n",
       "      <td>2.65995</td>\n",
       "      <td>2593</td>\n",
       "    </tr>\n",
       "    <tr>\n",
       "      <th>2701</th>\n",
       "      <td>24.241</td>\n",
       "      <td>31.16700</td>\n",
       "      <td>3.205</td>\n",
       "      <td>2.65995</td>\n",
       "      <td>2730</td>\n",
       "    </tr>\n",
       "    <tr>\n",
       "      <th>2770</th>\n",
       "      <td>31.167</td>\n",
       "      <td>31.16700</td>\n",
       "      <td>3.205</td>\n",
       "      <td>2.65995</td>\n",
       "      <td>2799</td>\n",
       "    </tr>\n",
       "  </tbody>\n",
       "</table>\n",
       "</div>"
      ],
      "text/plain": [
       "      coord_x   coord_y  coord_z  min_dist_atom   key\n",
       "148    10.389  38.09300    3.205        2.65995   150\n",
       "230    17.315  38.09300    3.205        2.65995   233\n",
       "231    17.315   3.46301    3.205        2.65995   234\n",
       "728    10.389  10.38900    3.205        2.65995   736\n",
       "821    17.315  10.38900    3.205        2.65995   830\n",
       "955    24.241  10.38900    3.205        2.65995   966\n",
       "1024   31.167  10.38900    3.205        2.65995  1035\n",
       "1399   17.315  17.31500    3.205        2.65995  1414\n",
       "2030   10.389  24.24100    3.205        2.65995  2050\n",
       "2091   17.315  24.24100    3.205        2.65995  2112\n",
       "2474   10.389  31.16700    3.205        2.65995  2500\n",
       "2566   17.315  31.16700    3.205        2.65995  2593\n",
       "2701   24.241  31.16700    3.205        2.65995  2730\n",
       "2770   31.167  31.16700    3.205        2.65995  2799"
      ]
     },
     "execution_count": 190,
     "metadata": {},
     "output_type": "execute_result"
    }
   ],
   "source": [
    "destination_coords1 = np.array([3.463, 10.389, 9.615])\n",
    "\n",
    "x_df = vertex_table.loc[vertex_table['coord_z'] == destination_coords[2]]\n",
    "\n",
    "y_df = x_df.loc[x_df['coord_y'] == destination_coords[1]]\n",
    "\n",
    "x_df\n",
    "\n",
    "# vertex_table.loc[vertex_table['key'] == '52']"
   ]
  },
  {
   "cell_type": "code",
   "execution_count": null,
   "id": "f432b0bc",
   "metadata": {},
   "outputs": [],
   "source": [
    "# Shortest's Path Algorithm\n",
    "most_connected_node = np.argsort(info)[-1] \n",
    "start = random.choice(list(range(len(vertex_table))))\n",
    "\n",
    "node_path = ShortestPath(most_connected_node, start, vertex_table, edge_table)"
   ]
  },
  {
   "cell_type": "code",
   "execution_count": 160,
   "id": "9b462625",
   "metadata": {},
   "outputs": [],
   "source": [
    "%store -r points_s8_v"
   ]
  },
  {
   "cell_type": "code",
   "execution_count": 1,
   "id": "b7539507",
   "metadata": {},
   "outputs": [
    {
     "ename": "NameError",
     "evalue": "name 'plt' is not defined",
     "output_type": "error",
     "traceback": [
      "\u001b[0;31m---------------------------------------------------------------------------\u001b[0m",
      "\u001b[0;31mNameError\u001b[0m                                 Traceback (most recent call last)",
      "\u001b[0;32m/tmp/ipykernel_16360/3156575812.py\u001b[0m in \u001b[0;36m<module>\u001b[0;34m\u001b[0m\n\u001b[1;32m      1\u001b[0m \u001b[0;32mfrom\u001b[0m \u001b[0mmpl_toolkits\u001b[0m\u001b[0;34m.\u001b[0m\u001b[0mmplot3d\u001b[0m \u001b[0;32mimport\u001b[0m \u001b[0maxes3d\u001b[0m\u001b[0;34m\u001b[0m\u001b[0;34m\u001b[0m\u001b[0m\n\u001b[1;32m      2\u001b[0m \u001b[0mget_ipython\u001b[0m\u001b[0;34m(\u001b[0m\u001b[0;34m)\u001b[0m\u001b[0;34m.\u001b[0m\u001b[0mrun_line_magic\u001b[0m\u001b[0;34m(\u001b[0m\u001b[0;34m'matplotlib'\u001b[0m\u001b[0;34m,\u001b[0m \u001b[0;34m'notebook'\u001b[0m\u001b[0;34m)\u001b[0m\u001b[0;34m\u001b[0m\u001b[0;34m\u001b[0m\u001b[0m\n\u001b[0;32m----> 3\u001b[0;31m \u001b[0mfig\u001b[0m \u001b[0;34m=\u001b[0m \u001b[0mplt\u001b[0m\u001b[0;34m.\u001b[0m\u001b[0mfigure\u001b[0m\u001b[0;34m(\u001b[0m\u001b[0mfigsize\u001b[0m\u001b[0;34m=\u001b[0m\u001b[0;34m(\u001b[0m\u001b[0;36m8\u001b[0m\u001b[0;34m,\u001b[0m\u001b[0;36m8\u001b[0m\u001b[0;34m)\u001b[0m\u001b[0;34m)\u001b[0m\u001b[0;34m\u001b[0m\u001b[0;34m\u001b[0m\u001b[0m\n\u001b[0m\u001b[1;32m      4\u001b[0m \u001b[0;34m\u001b[0m\u001b[0m\n\u001b[1;32m      5\u001b[0m \u001b[0max\u001b[0m \u001b[0;34m=\u001b[0m \u001b[0mfig\u001b[0m\u001b[0;34m.\u001b[0m\u001b[0madd_subplot\u001b[0m\u001b[0;34m(\u001b[0m\u001b[0;36m111\u001b[0m\u001b[0;34m,\u001b[0m \u001b[0mprojection\u001b[0m\u001b[0;34m=\u001b[0m\u001b[0;34m'3d'\u001b[0m\u001b[0;34m)\u001b[0m\u001b[0;34m\u001b[0m\u001b[0;34m\u001b[0m\u001b[0m\n",
      "\u001b[0;31mNameError\u001b[0m: name 'plt' is not defined"
     ]
    }
   ],
   "source": [
    "from mpl_toolkits.mplot3d import axes3d\n",
    "%matplotlib notebook\n",
    "fig = plt.figure(figsize=(8,8))\n",
    "\n",
    "ax = fig.add_subplot(111, projection='3d')\n",
    "points_s8_v\n",
    "ax.scatter(origin_coords[:,0], origin_coords[:,1], origin_coords[:,2], s=50, c='black')\n",
    "# ax.scatter(points_s8_v.iloc[:, [0,1,2]].values[:,0], points_s8_v.iloc[:, [0,1,2]].values[:,1], points_s8_v.iloc[:, [0,1,2]].values[:,2], s=10, c='blue')\n",
    "\n",
    "# ax.scatter(destination_coords[0], destination_coords[1], destination_coords[2], s=50, c='black')\n",
    "ax.scatter(vertex_table.iloc[:, [0,1,2]].values[:,0], vertex_table.iloc[:, [0,1,2]].values[:,1], vertex_table.iloc[:, [0,1,2]].values[:,2], s=1, c='blue') \n",
    "\n",
    "# ax.scatter(struct.cart_coords[:,0], struct.cart_coords[:,1], struct.cart_coords[:,2], s=50, c='green')"
   ]
  },
  {
   "cell_type": "code",
   "execution_count": null,
   "id": "3fc88511",
   "metadata": {},
   "outputs": [],
   "source": [
    "\n",
    "name = 'EDI'\n",
    "\n",
    "cif_path = './CifFiles/' + name + '.cif'\n",
    "lattice_mult = 1\n",
    "\n",
    "\n",
    "nt2_path = './Nt2Files/' + name + '.nt2'\n",
    "\n",
    "bound_path = './BoundFiles/' + name + '.txt'\n",
    "\n",
    "iteration = 100\n",
    "\n",
    "\n",
    "struct = Structure.from_file(cif_path)\n",
    "\n",
    "cell_dim = struct._lattice.abc\n",
    "\n",
    "\n",
    "# Supercell\n",
    "n = lattice_mult\n",
    "supercell_path = './SupercellFiles/' + name + str(n) + '.cif'\n",
    "\n",
    "lattice_vector = [n,n,n]\n",
    "\n",
    "cell_dim = Supercell(cif_path, lattice_vector, supercell_path)\n",
    "\n",
    "multiplier = np.array([1,1,1]) #6.4\n",
    "box = np.array([cell_dim[0], cell_dim[1], cell_dim[2]])\n",
    "\n",
    "edge_table, vertex_table = ZeoDataframe(nt2_path, multiplier, box)\n",
    "\n",
    "# Create a file that describe conexions between nodes\n",
    "path_edge_file = EdgeFile(bound_path, edge_table)\n",
    "\n",
    "# Dictionary used to calulatate the proporcion among the conexion in every node\n",
    "conexion = Conexion(vertex_table, edge_table)\n",
    "\n",
    "# Pagerank algorithm \n",
    "# return an ax with the selected node located \n",
    "info, sum_nodes = PageRank(path_edge_file, conexion, iteration)\n",
    "\n",
    "# LISTs for size pore/connectivity comparison\n",
    "\n",
    "most_connected_node = np.argsort(info)[-1] # index of the most connected node\n",
    "#     info[most_connected_node] # value of the most connected node\n",
    "#     vertex_table.loc[vertex_table.index == most_connected_node, ['min_dist_atom']].values[0]\n",
    "\n",
    "comparison_info[cif_name] = {'most_connected_node':most_connected_node, \n",
    "                             'value_most_con':value_most_con,\n",
    "                            'dist_atom':dist_atom}"
   ]
  }
 ],
 "metadata": {
  "kernelspec": {
   "display_name": "Python 3 (ipykernel)",
   "language": "python",
   "name": "python3"
  },
  "language_info": {
   "codemirror_mode": {
    "name": "ipython",
    "version": 3
   },
   "file_extension": ".py",
   "mimetype": "text/x-python",
   "name": "python",
   "nbconvert_exporter": "python",
   "pygments_lexer": "ipython3",
   "version": "3.8.8"
  }
 },
 "nbformat": 4,
 "nbformat_minor": 5
}
