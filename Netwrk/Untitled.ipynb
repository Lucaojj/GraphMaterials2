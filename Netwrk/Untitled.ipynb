{
 "cells": [
  {
   "cell_type": "code",
   "execution_count": 1,
   "id": "061aebe0",
   "metadata": {},
   "outputs": [],
   "source": [
    "import networkx as nx\n",
    "from pymatgen.core.structure import Structure\n",
    "import os\n",
    "os.chdir('/home/lucasperea/Documents/GithubRep/GraphMaterials/')\n",
    "from GraphFunc.ZeoDataframeFunction import ZeoDataframe\n",
    "from GraphFunc.ConexionFunction import Conexion\n",
    "from pymatgen.io.cif import CifWriter\n",
    "import pandas as pd\n",
    "import numpy as np\n",
    "import matplotlib.pyplot as plt\n",
    "%load_ext autoreload\n",
    "%autoreload 2\n"
   ]
  },
  {
   "cell_type": "code",
   "execution_count": 3,
   "id": "8b39b379",
   "metadata": {},
   "outputs": [],
   "source": [
    "box = np.array([6.926, 6.926, 6.410])"
   ]
  },
  {
   "cell_type": "code",
   "execution_count": 111,
   "id": "174d0193",
   "metadata": {},
   "outputs": [
    {
     "name": "stdout",
     "output_type": "stream",
     "text": [
      "80\n",
      "84\n",
      "98\n",
      "105\n",
      "103\n",
      "130\n",
      "132\n",
      "137\n",
      "138\n",
      "139\n"
     ]
    }
   ],
   "source": [
    "path_to_file = './Netwrk/EDI.nt2'\n",
    "\n",
    "G = nx.Graph()\n",
    "with open(path_to_file) as f:\n",
    "    line = ' '\n",
    "\n",
    "    while line:\n",
    "        line = f.readline()\n",
    "\n",
    "        if line == 'Vertex table:\\n':\n",
    "            \n",
    "            while line:\n",
    "\n",
    "                line = f.readline()\n",
    "                \n",
    "                if line == '\\n':\n",
    "                    break\n",
    "                else:\n",
    "                    line_list = line.split()\n",
    "                    key = int(line_list[0])\n",
    "#                     print(key)\n",
    "                    coord_x = float(line_list[1])\n",
    "                    coord_y = float(line_list[2])\n",
    "                    coord_z = float(line_list[3])\n",
    "                    min_dist_atom = float(line_list[4])\n",
    "        \n",
    "                    G.add_node(key, coord=np.array([coord_x, coord_y, coord_z]), rad_max_sph=min_dist_atom,\n",
    "                              pagerank=1)\n",
    "\n",
    "    #                 vertex_table = vertex_table.append({'coord_x':coord_x, 'coord_y':coord_y, 'coord_z':coord_z,\n",
    "    #                                                     'min_dist_atom':min_dist_atom, 'key':key},ignore_index = True)\n",
    "\n",
    "\n",
    "        x_1 = len(list(range(0,(sorted(list(G.nodes), reverse=True)[0] + 1))))\n",
    "        \n",
    "        \n",
    "        \n",
    "        if line == 'Edge table:\\n':\n",
    "            \n",
    "\n",
    "            while line:\n",
    "\n",
    "                line = f.readline()\n",
    "                if line == '':\n",
    "                    break\n",
    "                line_list = line.split()\n",
    "                origin = int(line_list[0])\n",
    "                destination = int(line_list[2])\n",
    "                larger_radius = float(line_list[3])\n",
    "                x_sim = int(line_list[4])\n",
    "                y_sim = int(line_list[5])\n",
    "                z_sim = int(line_list[6])\n",
    "                if sum([abs(x_sim), abs(y_sim), abs(z_sim)]) == 0:\n",
    "                    G.add_edge(origin, destination, rad_max_sph=larger_radius)                    \n",
    "                else:\n",
    "                    \n",
    "                    G.add_node(destination + x_1, coord=G.nodes[destination]['coord'] + np.array([box[0], 0, 0]),\n",
    "                               rad_max_sph=G.nodes[destination]['rad_max_sph'], pagerank=1)\n",
    "                    G.add_edge(origin, destination + x_1, rad_max_sph=larger_radius)   \n",
    "                        \n",
    "                    else:\n",
    "                        pass\n",
    "                    \n",
    "                \n",
    "                \n",
    "                \n",
    "#                 if sum([abs(x_sim), abs(y_sim), abs(z_sim)]) == 0:\n",
    "#                     pass\n",
    "#                     edge_table = edge_table.append({'origin':origin, 'destination': destination, 'x_sim':x_sim,\n",
    "#                                                     'y_sim':y_sim, 'z_sim':z_sim,'larger_radius':larger_radius},\n",
    "#                                                    ignore_index = True)\n",
    "                    #print('change')\n"
   ]
  },
  {
   "cell_type": "code",
   "execution_count": 23,
   "id": "fe718a04",
   "metadata": {},
   "outputs": [
    {
     "data": {
      "text/plain": [
       "AtlasView({17: {'rad_max_sph': 2.62603}, 67: {'rad_max_sph': 2.51601}, 138: {'rad_max_sph': 0.759739}, 69: {'rad_max_sph': 2.51601}})"
      ]
     },
     "execution_count": 23,
     "metadata": {},
     "output_type": "execute_result"
    }
   ],
   "source": [
    "L[68]"
   ]
  },
  {
   "cell_type": "code",
   "execution_count": 24,
   "id": "ad2b0e07",
   "metadata": {},
   "outputs": [
    {
     "data": {
      "image/png": "[encoded data removed]",
      "text/plain": [
       "<Figure size 432x288 with 1 Axes>"
      ]
     },
     "metadata": {},
     "output_type": "display_data"
    }
   ],
   "source": [
    "nx.draw(L, with_labels=True, font_weight='bold')"
   ]
  },
  {
   "cell_type": "code",
   "execution_count": 8,
   "id": "c3fea8a8",
   "metadata": {},
   "outputs": [],
   "source": [
    "from copy import deepcopy\n",
    "import copy"
   ]
  },
  {
   "cell_type": "code",
   "execution_count": 9,
   "id": "ee97b6c3",
   "metadata": {},
   "outputs": [],
   "source": [
    "L = copy.deepcopy(G)"
   ]
  },
  {
   "cell_type": "code",
   "execution_count": 46,
   "id": "6b19cdd7",
   "metadata": {},
   "outputs": [
    {
     "data": {
      "text/plain": [
       "<networkx.classes.graph.Graph at 0x7eff8173f580>"
      ]
     },
     "execution_count": 46,
     "metadata": {},
     "output_type": "execute_result"
    }
   ],
   "source": [
    "nx.relabel.relabel_nodes(L, {3:2}, copy=False)"
   ]
  },
  {
   "cell_type": "code",
   "execution_count": 43,
   "id": "ea948f80",
   "metadata": {},
   "outputs": [
    {
     "data": {
      "text/plain": [
       "{'coord': array([6.926  , 5.88033, 1.27823]),\n",
       " 'rad_max_sph': 0.0922282,\n",
       " 'pagerank': 1}"
      ]
     },
     "execution_count": 43,
     "metadata": {},
     "output_type": "execute_result"
    }
   ],
   "source": [
    "L.nodes[3]"
   ]
  },
  {
   "cell_type": "code",
   "execution_count": 44,
   "id": "1d6570a4",
   "metadata": {},
   "outputs": [
    {
     "data": {
      "text/plain": [
       "AtlasView({80: {'rad_max_sph': 0.0922282}, 42: {'rad_max_sph': 0.0922282}})"
      ]
     },
     "execution_count": 44,
     "metadata": {},
     "output_type": "execute_result"
    }
   ],
   "source": [
    "L[3]"
   ]
  },
  {
   "cell_type": "code",
   "execution_count": 42,
   "id": "23b87a9a",
   "metadata": {},
   "outputs": [
    {
     "data": {
      "text/plain": [
       "{'coord': array([1.62685 , 0.358632, 4.85973 ]),\n",
       " 'rad_max_sph': 0.248056,\n",
       " 'pagerank': 1}"
      ]
     },
     "execution_count": 42,
     "metadata": {},
     "output_type": "execute_result"
    }
   ],
   "source": [
    "L.nodes[0]"
   ]
  },
  {
   "cell_type": "code",
   "execution_count": 50,
   "id": "5620eedf",
   "metadata": {},
   "outputs": [
    {
     "data": {
      "text/plain": [
       "AtlasView({80: {'rad_max_sph': 0.0922282}, 42: {'rad_max_sph': 0.0922282}})"
      ]
     },
     "execution_count": 50,
     "metadata": {},
     "output_type": "execute_result"
    }
   ],
   "source": [
    "L[2]"
   ]
  },
  {
   "cell_type": "code",
   "execution_count": 68,
   "id": "01a35124",
   "metadata": {},
   "outputs": [],
   "source": [
    "K = nx.Graph()\n",
    "M = nx.Graph()\n",
    "Z = nx.Graph()"
   ]
  },
  {
   "cell_type": "code",
   "execution_count": 61,
   "id": "818545d7",
   "metadata": {},
   "outputs": [],
   "source": [
    "Z.add_nodes_from([K, M, H])"
   ]
  },
  {
   "cell_type": "code",
   "execution_count": 69,
   "id": "6836846a",
   "metadata": {},
   "outputs": [],
   "source": [
    "K.add_nodes_from([1, 2, 3, 4, 5])\n",
    "M.add_nodes_from([1, 2, 3, 4, 5])\n",
    "\n",
    "K.add_edges_from([(1,3), (3, 5)], weight=1)\n",
    "M.add_edges_from([(2,4), (4,5)], weight=1)"
   ]
  },
  {
   "cell_type": "code",
   "execution_count": 73,
   "id": "ab95389d",
   "metadata": {},
   "outputs": [],
   "source": [
    "K.add_edges_from([(2,3), (1, 2), (3,4), (4,5)], weight=1)\n",
    "M.add_edges_from([(1, 2), (2,3), (3,4)], weight=1)"
   ]
  },
  {
   "cell_type": "code",
   "execution_count": 74,
   "id": "ea512d74",
   "metadata": {},
   "outputs": [],
   "source": [
    "Z.add_edges_from([(K,H), (H,M)], weight=1)"
   ]
  },
  {
   "cell_type": "code",
   "execution_count": 76,
   "id": "46df6477",
   "metadata": {},
   "outputs": [],
   "source": [
    "H = nx.path_graph(10)"
   ]
  },
  {
   "cell_type": "code",
   "execution_count": 59,
   "id": "4cce205c",
   "metadata": {},
   "outputs": [
    {
     "data": {
      "text/plain": [
       "EdgeView([(0, 1), (1, 2), (2, 3), (3, 4), (4, 5), (5, 6), (6, 7), (7, 8), (8, 9)])"
      ]
     },
     "execution_count": 59,
     "metadata": {},
     "output_type": "execute_result"
    }
   ],
   "source": [
    "H.edges"
   ]
  },
  {
   "cell_type": "code",
   "execution_count": 78,
   "id": "95bfb7b7",
   "metadata": {},
   "outputs": [
    {
     "name": "stdout",
     "output_type": "stream",
     "text": [
      "(0, 1)\n",
      "(1, 2)\n",
      "(2, 3)\n",
      "(3, 4)\n",
      "(4, 5)\n",
      "(5, 6)\n",
      "(6, 7)\n",
      "(7, 8)\n",
      "(8, 9)\n"
     ]
    }
   ],
   "source": [
    "for edge in H.edges:\n",
    "    H[edge[0]][edge[1]]['weight'] = 1\n",
    "    print(edge)\n",
    "#     for attr in K.edges[edge[0], edge[1]]:\n",
    "#         K.edges[edge][attr] = 1"
   ]
  },
  {
   "cell_type": "code",
   "execution_count": 79,
   "id": "2c4f8881",
   "metadata": {},
   "outputs": [
    {
     "data": {
      "text/plain": [
       "{'weight': 1}"
      ]
     },
     "execution_count": 79,
     "metadata": {},
     "output_type": "execute_result"
    }
   ],
   "source": [
    "H[1][2]"
   ]
  },
  {
   "cell_type": "code",
   "execution_count": 110,
   "id": "47709c29",
   "metadata": {},
   "outputs": [
    {
     "data": {
      "text/plain": [
       "[1, 3, 5, 3, 1]"
      ]
     },
     "execution_count": 110,
     "metadata": {},
     "output_type": "execute_result"
    }
   ],
   "source": [
    "from networkx.algorithms.approximation.traveling_salesman import traveling_salesman_problem \n",
    "traveling_salesman_problem(K, nodes=[1, 5])\n"
   ]
  },
  {
   "cell_type": "code",
   "execution_count": 114,
   "id": "91c606f7",
   "metadata": {},
   "outputs": [
    {
     "data": {
      "text/plain": [
       "{'weight': 1}"
      ]
     },
     "execution_count": 114,
     "metadata": {},
     "output_type": "execute_result"
    }
   ],
   "source": [
    "H[1][0]"
   ]
  },
  {
   "cell_type": "code",
   "execution_count": 115,
   "id": "1debb875",
   "metadata": {},
   "outputs": [],
   "source": [
    "M = nx.Graph()"
   ]
  },
  {
   "cell_type": "code",
   "execution_count": 119,
   "id": "e40de4ea",
   "metadata": {},
   "outputs": [],
   "source": [
    "M.add_edge(1, 2)\n",
    "M.add_node(1)\n",
    "M.add_node(2)"
   ]
  },
  {
   "cell_type": "code",
   "execution_count": 120,
   "id": "add103a1",
   "metadata": {},
   "outputs": [
    {
     "data": {
      "text/plain": [
       "<networkx.classes.graph.Graph at 0x7eff802a3a00>"
      ]
     },
     "execution_count": 120,
     "metadata": {},
     "output_type": "execute_result"
    }
   ],
   "source": [
    "nx.relabel.relabel_nodes(M, {1:0}, copy=False)"
   ]
  },
  {
   "cell_type": "code",
   "execution_count": 121,
   "id": "05fda3c3",
   "metadata": {},
   "outputs": [
    {
     "data": {
      "text/plain": [
       "EdgeView([(2, 0)])"
      ]
     },
     "execution_count": 121,
     "metadata": {},
     "output_type": "execute_result"
    }
   ],
   "source": [
    "M.edges"
   ]
  },
  {
   "cell_type": "code",
   "execution_count": 122,
   "id": "262de185",
   "metadata": {},
   "outputs": [],
   "source": [
    "M = nx.Graph(day=\"Friday\")\n",
    "M.add_edge(1, 2)\n",
    "M.add_node(1)\n",
    "M.add_node(2)"
   ]
  },
  {
   "cell_type": "code",
   "execution_count": 126,
   "id": "8b1aa551",
   "metadata": {},
   "outputs": [
    {
     "data": {
      "text/plain": [
       "{'day': 'Friday'}"
      ]
     },
     "execution_count": 126,
     "metadata": {},
     "output_type": "execute_result"
    }
   ],
   "source": [
    "M.graph"
   ]
  },
  {
   "cell_type": "code",
   "execution_count": null,
   "id": "2f90847e",
   "metadata": {},
   "outputs": [],
   "source": [
    "combination_vector = "
   ]
  }
 ],
 "metadata": {
  "kernelspec": {
   "display_name": "Python 3 (ipykernel)",
   "language": "python",
   "name": "python3"
  },
  "language_info": {
   "codemirror_mode": {
    "name": "ipython",
    "version": 3
   },
   "file_extension": ".py",
   "mimetype": "text/x-python",
   "name": "python",
   "nbconvert_exporter": "python",
   "pygments_lexer": "ipython3",
   "version": "3.8.8"
  }
 },
 "nbformat": 4,
 "nbformat_minor": 5
}
